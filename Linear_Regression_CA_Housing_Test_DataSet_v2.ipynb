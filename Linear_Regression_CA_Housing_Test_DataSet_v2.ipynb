{
  "nbformat": 4,
  "nbformat_minor": 0,
  "metadata": {
    "colab": {
      "name": "Linear Regression CA Housing Test DataSet.ipynb",
      "version": "0.3.2",
      "provenance": [],
      "collapsed_sections": []
    },
    "kernelspec": {
      "name": "python3",
      "display_name": "Python 3"
    }
  },
  "cells": [
    {
      "cell_type": "markdown",
      "metadata": {
        "id": "SnuFV7vU07BU",
        "colab_type": "text"
      },
      "source": [
        "**#1. Linear Regrission on california_housing_test data**"
      ]
    },
    {
      "cell_type": "markdown",
      "metadata": {
        "id": "3u_Zw-Gn0xtm",
        "colab_type": "text"
      },
      "source": [
        "**Data File:** sample_data/california_housing_test.csv"
      ]
    },
    {
      "cell_type": "code",
      "metadata": {
        "id": "O4ir8mlk1Sla",
        "colab_type": "code",
        "outputId": "9f733714-6300-4ea7-ed62-c854e00faf41",
        "colab": {
          "base_uri": "https://localhost:8080/",
          "height": 35
        }
      },
      "source": [
        "#Load libraries\n",
        "import pandas as pd\n",
        "import numpy as np\n",
        "import matplotlib.pyplot as plt\n",
        "import random\n",
        "import math\n",
        "\n",
        "print(\"Load Libraries Succeeded...\")\n"
      ],
      "execution_count": 2,
      "outputs": [
        {
          "output_type": "stream",
          "text": [
            "Load Libraries Succeeded...\n"
          ],
          "name": "stdout"
        }
      ]
    },
    {
      "cell_type": "code",
      "metadata": {
        "id": "o_iCVt_h2O8-",
        "colab_type": "code",
        "outputId": "77b459d2-862a-4b5f-bfb2-7c88bf854731",
        "colab": {
          "base_uri": "https://localhost:8080/",
          "height": 35
        }
      },
      "source": [
        "#Load Test DataSet\n",
        "DataSet_CAHousingTest = pd.read_csv('sample_data/california_housing_test.csv')\n",
        "\n",
        "print('Load Test DataSet Succeeded...')"
      ],
      "execution_count": 4,
      "outputs": [
        {
          "output_type": "stream",
          "text": [
            "Load Test DataSet Succeeded...\n"
          ],
          "name": "stdout"
        }
      ]
    },
    {
      "cell_type": "code",
      "metadata": {
        "id": "4aW1W9Mp35cz",
        "colab_type": "code",
        "outputId": "2b80d511-0efb-471e-fe79-9c4d52d037aa",
        "colab": {
          "base_uri": "https://localhost:8080/",
          "height": 224
        }
      },
      "source": [
        "print('Quick Overview of DataSet_CAHousingTest...')\n",
        "DataSet_CAHousingTest.head()"
      ],
      "execution_count": 6,
      "outputs": [
        {
          "output_type": "stream",
          "text": [
            "Quick Overview of DataSet_CAHousingTest...\n"
          ],
          "name": "stdout"
        },
        {
          "output_type": "execute_result",
          "data": {
            "text/html": [
              "<div>\n",
              "<style scoped>\n",
              "    .dataframe tbody tr th:only-of-type {\n",
              "        vertical-align: middle;\n",
              "    }\n",
              "\n",
              "    .dataframe tbody tr th {\n",
              "        vertical-align: top;\n",
              "    }\n",
              "\n",
              "    .dataframe thead th {\n",
              "        text-align: right;\n",
              "    }\n",
              "</style>\n",
              "<table border=\"1\" class=\"dataframe\">\n",
              "  <thead>\n",
              "    <tr style=\"text-align: right;\">\n",
              "      <th></th>\n",
              "      <th>longitude</th>\n",
              "      <th>latitude</th>\n",
              "      <th>housing_median_age</th>\n",
              "      <th>total_rooms</th>\n",
              "      <th>total_bedrooms</th>\n",
              "      <th>population</th>\n",
              "      <th>households</th>\n",
              "      <th>median_income</th>\n",
              "      <th>median_house_value</th>\n",
              "    </tr>\n",
              "  </thead>\n",
              "  <tbody>\n",
              "    <tr>\n",
              "      <th>0</th>\n",
              "      <td>-122.05</td>\n",
              "      <td>37.37</td>\n",
              "      <td>27.0</td>\n",
              "      <td>3885.0</td>\n",
              "      <td>661.0</td>\n",
              "      <td>1537.0</td>\n",
              "      <td>606.0</td>\n",
              "      <td>6.6085</td>\n",
              "      <td>344700.0</td>\n",
              "    </tr>\n",
              "    <tr>\n",
              "      <th>1</th>\n",
              "      <td>-118.30</td>\n",
              "      <td>34.26</td>\n",
              "      <td>43.0</td>\n",
              "      <td>1510.0</td>\n",
              "      <td>310.0</td>\n",
              "      <td>809.0</td>\n",
              "      <td>277.0</td>\n",
              "      <td>3.5990</td>\n",
              "      <td>176500.0</td>\n",
              "    </tr>\n",
              "    <tr>\n",
              "      <th>2</th>\n",
              "      <td>-117.81</td>\n",
              "      <td>33.78</td>\n",
              "      <td>27.0</td>\n",
              "      <td>3589.0</td>\n",
              "      <td>507.0</td>\n",
              "      <td>1484.0</td>\n",
              "      <td>495.0</td>\n",
              "      <td>5.7934</td>\n",
              "      <td>270500.0</td>\n",
              "    </tr>\n",
              "    <tr>\n",
              "      <th>3</th>\n",
              "      <td>-118.36</td>\n",
              "      <td>33.82</td>\n",
              "      <td>28.0</td>\n",
              "      <td>67.0</td>\n",
              "      <td>15.0</td>\n",
              "      <td>49.0</td>\n",
              "      <td>11.0</td>\n",
              "      <td>6.1359</td>\n",
              "      <td>330000.0</td>\n",
              "    </tr>\n",
              "    <tr>\n",
              "      <th>4</th>\n",
              "      <td>-119.67</td>\n",
              "      <td>36.33</td>\n",
              "      <td>19.0</td>\n",
              "      <td>1241.0</td>\n",
              "      <td>244.0</td>\n",
              "      <td>850.0</td>\n",
              "      <td>237.0</td>\n",
              "      <td>2.9375</td>\n",
              "      <td>81700.0</td>\n",
              "    </tr>\n",
              "  </tbody>\n",
              "</table>\n",
              "</div>"
            ],
            "text/plain": [
              "   longitude  latitude  ...  median_income  median_house_value\n",
              "0    -122.05     37.37  ...         6.6085            344700.0\n",
              "1    -118.30     34.26  ...         3.5990            176500.0\n",
              "2    -117.81     33.78  ...         5.7934            270500.0\n",
              "3    -118.36     33.82  ...         6.1359            330000.0\n",
              "4    -119.67     36.33  ...         2.9375             81700.0\n",
              "\n",
              "[5 rows x 9 columns]"
            ]
          },
          "metadata": {
            "tags": []
          },
          "execution_count": 6
        }
      ]
    },
    {
      "cell_type": "code",
      "metadata": {
        "id": "Cd9kMxNA4oSG",
        "colab_type": "code",
        "outputId": "973a8594-dcb0-4139-8320-47cce82de60a",
        "colab": {
          "base_uri": "https://localhost:8080/",
          "height": 370
        }
      },
      "source": [
        "#Overview of data set correlation\n",
        "\n",
        "print('Overview of data set correlation')\n",
        "DataSet_CAHousingTest.corr()\n"
      ],
      "execution_count": 8,
      "outputs": [
        {
          "output_type": "stream",
          "text": [
            "Overview of data set correlation\n"
          ],
          "name": "stdout"
        },
        {
          "output_type": "execute_result",
          "data": {
            "text/html": [
              "<div>\n",
              "<style scoped>\n",
              "    .dataframe tbody tr th:only-of-type {\n",
              "        vertical-align: middle;\n",
              "    }\n",
              "\n",
              "    .dataframe tbody tr th {\n",
              "        vertical-align: top;\n",
              "    }\n",
              "\n",
              "    .dataframe thead th {\n",
              "        text-align: right;\n",
              "    }\n",
              "</style>\n",
              "<table border=\"1\" class=\"dataframe\">\n",
              "  <thead>\n",
              "    <tr style=\"text-align: right;\">\n",
              "      <th></th>\n",
              "      <th>longitude</th>\n",
              "      <th>latitude</th>\n",
              "      <th>housing_median_age</th>\n",
              "      <th>total_rooms</th>\n",
              "      <th>total_bedrooms</th>\n",
              "      <th>population</th>\n",
              "      <th>households</th>\n",
              "      <th>median_income</th>\n",
              "      <th>median_house_value</th>\n",
              "    </tr>\n",
              "  </thead>\n",
              "  <tbody>\n",
              "    <tr>\n",
              "      <th>longitude</th>\n",
              "      <td>1.000000</td>\n",
              "      <td>-0.925017</td>\n",
              "      <td>-0.064203</td>\n",
              "      <td>0.049865</td>\n",
              "      <td>0.070869</td>\n",
              "      <td>0.111572</td>\n",
              "      <td>0.051062</td>\n",
              "      <td>-0.018701</td>\n",
              "      <td>-0.050662</td>\n",
              "    </tr>\n",
              "    <tr>\n",
              "      <th>latitude</th>\n",
              "      <td>-0.925017</td>\n",
              "      <td>1.000000</td>\n",
              "      <td>-0.025143</td>\n",
              "      <td>-0.039632</td>\n",
              "      <td>-0.068245</td>\n",
              "      <td>-0.117318</td>\n",
              "      <td>-0.068296</td>\n",
              "      <td>-0.072363</td>\n",
              "      <td>-0.138428</td>\n",
              "    </tr>\n",
              "    <tr>\n",
              "      <th>housing_median_age</th>\n",
              "      <td>-0.064203</td>\n",
              "      <td>-0.025143</td>\n",
              "      <td>1.000000</td>\n",
              "      <td>-0.367850</td>\n",
              "      <td>-0.323154</td>\n",
              "      <td>-0.299888</td>\n",
              "      <td>-0.305171</td>\n",
              "      <td>-0.144315</td>\n",
              "      <td>0.091409</td>\n",
              "    </tr>\n",
              "    <tr>\n",
              "      <th>total_rooms</th>\n",
              "      <td>0.049865</td>\n",
              "      <td>-0.039632</td>\n",
              "      <td>-0.367850</td>\n",
              "      <td>1.000000</td>\n",
              "      <td>0.937749</td>\n",
              "      <td>0.838867</td>\n",
              "      <td>0.914116</td>\n",
              "      <td>0.221249</td>\n",
              "      <td>0.160427</td>\n",
              "    </tr>\n",
              "    <tr>\n",
              "      <th>total_bedrooms</th>\n",
              "      <td>0.070869</td>\n",
              "      <td>-0.068245</td>\n",
              "      <td>-0.323154</td>\n",
              "      <td>0.937749</td>\n",
              "      <td>1.000000</td>\n",
              "      <td>0.856387</td>\n",
              "      <td>0.970758</td>\n",
              "      <td>0.024025</td>\n",
              "      <td>0.082279</td>\n",
              "    </tr>\n",
              "    <tr>\n",
              "      <th>population</th>\n",
              "      <td>0.111572</td>\n",
              "      <td>-0.117318</td>\n",
              "      <td>-0.299888</td>\n",
              "      <td>0.838867</td>\n",
              "      <td>0.856387</td>\n",
              "      <td>1.000000</td>\n",
              "      <td>0.895530</td>\n",
              "      <td>0.032361</td>\n",
              "      <td>-0.001192</td>\n",
              "    </tr>\n",
              "    <tr>\n",
              "      <th>households</th>\n",
              "      <td>0.051062</td>\n",
              "      <td>-0.068296</td>\n",
              "      <td>-0.305171</td>\n",
              "      <td>0.914116</td>\n",
              "      <td>0.970758</td>\n",
              "      <td>0.895530</td>\n",
              "      <td>1.000000</td>\n",
              "      <td>0.048625</td>\n",
              "      <td>0.100176</td>\n",
              "    </tr>\n",
              "    <tr>\n",
              "      <th>median_income</th>\n",
              "      <td>-0.018701</td>\n",
              "      <td>-0.072363</td>\n",
              "      <td>-0.144315</td>\n",
              "      <td>0.221249</td>\n",
              "      <td>0.024025</td>\n",
              "      <td>0.032361</td>\n",
              "      <td>0.048625</td>\n",
              "      <td>1.000000</td>\n",
              "      <td>0.672695</td>\n",
              "    </tr>\n",
              "    <tr>\n",
              "      <th>median_house_value</th>\n",
              "      <td>-0.050662</td>\n",
              "      <td>-0.138428</td>\n",
              "      <td>0.091409</td>\n",
              "      <td>0.160427</td>\n",
              "      <td>0.082279</td>\n",
              "      <td>-0.001192</td>\n",
              "      <td>0.100176</td>\n",
              "      <td>0.672695</td>\n",
              "      <td>1.000000</td>\n",
              "    </tr>\n",
              "  </tbody>\n",
              "</table>\n",
              "</div>"
            ],
            "text/plain": [
              "                    longitude  latitude  ...  median_income  median_house_value\n",
              "longitude            1.000000 -0.925017  ...      -0.018701           -0.050662\n",
              "latitude            -0.925017  1.000000  ...      -0.072363           -0.138428\n",
              "housing_median_age  -0.064203 -0.025143  ...      -0.144315            0.091409\n",
              "total_rooms          0.049865 -0.039632  ...       0.221249            0.160427\n",
              "total_bedrooms       0.070869 -0.068245  ...       0.024025            0.082279\n",
              "population           0.111572 -0.117318  ...       0.032361           -0.001192\n",
              "households           0.051062 -0.068296  ...       0.048625            0.100176\n",
              "median_income       -0.018701 -0.072363  ...       1.000000            0.672695\n",
              "median_house_value  -0.050662 -0.138428  ...       0.672695            1.000000\n",
              "\n",
              "[9 rows x 9 columns]"
            ]
          },
          "metadata": {
            "tags": []
          },
          "execution_count": 8
        }
      ]
    },
    {
      "cell_type": "code",
      "metadata": {
        "id": "hTYF9kKDJqZG",
        "colab_type": "code",
        "outputId": "7ba5509c-fb90-4247-869f-09f1cf795129",
        "colab": {
          "base_uri": "https://localhost:8080/",
          "height": 35
        }
      },
      "source": [
        "#Select Feature and Target\n",
        "feature = DataSet_CAHousingTest['median_income']\n",
        "target_var = DataSet_CAHousingTest['median_house_value']\n",
        "\n",
        "print('Select Feature Dataset and Target Variable Succeeded...')\n",
        "\n"
      ],
      "execution_count": 10,
      "outputs": [
        {
          "output_type": "stream",
          "text": [
            "Select Feature Dataset and Target Variable Succeeded...\n"
          ],
          "name": "stdout"
        }
      ]
    },
    {
      "cell_type": "code",
      "metadata": {
        "id": "1Srb8q1QM9HN",
        "colab_type": "code",
        "colab": {}
      },
      "source": [
        "#Declare Line function\n",
        "def myline(m,x,c):\n",
        "  return m*x+c\n"
      ],
      "execution_count": 0,
      "outputs": []
    },
    {
      "cell_type": "code",
      "metadata": {
        "id": "PcQ2Ri-sMe4x",
        "colab_type": "code",
        "colab": {}
      },
      "source": [
        "#Declare Error function\n",
        "def myerror(m,x,c,y):\n",
        "  return np.mean( (myline(m,x,c)-y)**2)\n"
      ],
      "execution_count": 0,
      "outputs": []
    },
    {
      "cell_type": "code",
      "metadata": {
        "id": "BiIcEtdPOh5f",
        "colab_type": "code",
        "colab": {}
      },
      "source": [
        "#Declare Derivate Slop function\n",
        "def derivate_slop(m,x,c,y):\n",
        "  return 2*(np.mean(myline(m,x,c)-y)*x)\n",
        "  \n",
        "  "
      ],
      "execution_count": 0,
      "outputs": []
    },
    {
      "cell_type": "code",
      "metadata": {
        "id": "ZjzN9PHGQJ2d",
        "colab_type": "code",
        "colab": {}
      },
      "source": [
        "#Declare Derivate Intercept function\n",
        "def derivate_intercept(m,x,c,y):\n",
        "  return 2*(np.mean(myline(m,x,c)-y)*1)"
      ],
      "execution_count": 0,
      "outputs": []
    },
    {
      "cell_type": "code",
      "metadata": {
        "id": "BZyzrvyQS5vq",
        "colab_type": "code",
        "colab": {}
      },
      "source": [
        "#Declare Accuracy Predction function\n",
        "def myaccuracy_predction(error,y):\n",
        "  return 100 - ((error/np.mean(y**2))*100)\n"
      ],
      "execution_count": 0,
      "outputs": []
    },
    {
      "cell_type": "code",
      "metadata": {
        "id": "EOycJ-4cVgIG",
        "colab_type": "code",
        "outputId": "83f6cd6d-c91d-4642-8a4c-5f0bc5c97fc7",
        "colab": {
          "base_uri": "https://localhost:8080/",
          "height": 353
        }
      },
      "source": [
        "#Calculate Cost and Accuracy Percentage \n",
        "\n",
        "m = 5\n",
        "c = 3\n",
        "iteration_limit = 500\n",
        "learning_rate = 0.01\n",
        "cost = []\n",
        "cost_current = 0\n",
        "accuracy_percent_curr = 0\n",
        "accuracy_percent = []\n",
        "#print( myerror(m,feature,c,target_var))\n",
        "for i in range(0, iteration_limit):\n",
        "  m = learning_rate * derivate_slop(m,feature,c,target_var)\n",
        "  c = learning_rate * derivate_intercept(m,feature,c,target_var)\n",
        "  cost_current = myerror(m,feature,c,target_var)\n",
        "  accuracy_percent_curr = myaccuracy_predction(myerror(m,feature,c,target_var), target_var)\n",
        "  if i > 1:\n",
        "    if (accuracy_percent_curr < 0 and cost[-1] >= cost_current ) or \\\n",
        "       (accuracy_percent_curr > 0 and cost[-1] <= cost_current) or \\\n",
        "       (accuracy_percent_curr == accuracy_percent[-1]) :\n",
        "      break\n",
        "      \n",
        "  cost.append(cost_current)\n",
        "  accuracy_percent.append(accuracy_percent_curr)\n",
        "print('Cost =', cost)\n",
        "print('Predection Accuracy: ', accuracy_percent_curr,'%')\n",
        "print('Iteration: ', i)\n",
        "plt.plot(cost)\n",
        "plt.show()"
      ],
      "execution_count": 74,
      "outputs": [
        {
          "output_type": "stream",
          "text": [
            "Cost = [113925557310.55113, 143163663530.42822, 154886478951.47168, 159314833116.05118, 160954795111.16284, 161557861152.4531, 161779062112.47876, 161860121725.0018, 161889816090.5269, 161900692596.494, 161904676280.81726, 161906135340.86356, 161906669731.3942, 161906865455.07132, 161906937139.96152, 161906963394.94547, 161906973010.97534, 161906976532.8985, 161906977822.82153, 161906978295.26315, 161906978468.29758, 161906978531.67188, 161906978554.88397, 161906978563.38446, 161906978566.4988, 161906978567.63882, 161906978568.05643, 161906978568.20984, 161906978568.26587, 161906978568.2867, 161906978568.29364, 161906978568.29617, 161906978568.29742, 161906978568.2977, 161906978568.29776, 161906978568.29782, 161906978568.29785]\n",
            "Predection Accuracy:  -193.49856507453688 %\n",
            "Iteration:  37\n"
          ],
          "name": "stdout"
        },
        {
          "output_type": "display_data",
          "data": {
            "image/png": "[encoded data removed]",
            "text/plain": [
              "<Figure size 432x288 with 1 Axes>"
            ]
          },
          "metadata": {
            "tags": []
          }
        }
      ]
    },
    {
      "cell_type": "code",
      "metadata": {
        "id": "fzYjFGywYzal",
        "colab_type": "code",
        "colab": {}
      },
      "source": [
        ""
      ],
      "execution_count": 0,
      "outputs": []
    }
  ]
}